{
 "cells": [
  {
   "cell_type": "markdown",
   "id": "a6d91432-f00d-4e36-957b-5ce82bf029d7",
   "metadata": {},
   "source": [
    "OOPs: \n",
    "* Object-oriented programming\n",
    "* with the help of oops we can build large scale softwares and applications\n",
    "* We can hide our data with the help of access modifier\n",
    "* C++, JACA script, Python\n",
    "\n",
    "\n",
    "pops:\n",
    "* Procedural Oriented programming\n",
    "* we can not hide our data \n",
    "* C, FORTRAN, PASCAL"
   ]
  },
  {
   "cell_type": "code",
   "execution_count": null,
   "id": "18287572-df22-4769-9e40-40b4703c26ec",
   "metadata": {},
   "outputs": [],
   "source": []
  },
  {
   "cell_type": "markdown",
   "id": "59f137fd-16d7-4639-a9ff-5b4a2ce987c4",
   "metadata": {},
   "source": [
    "OOPs :\n",
    "\n",
    "* Abstraction - Data abstraication is a property through which we display only the essential details to the user. we hide the implenetaion. \n",
    "ex : Like working of a ATM, like a car\n",
    "* Encapsulation : means wrapping up all the details (methods and properties) into a single unit\n",
    "ex : school bag, ATM, Car\n",
    "* Inheritance : when one class is inheriting certain methods and propeties from one class to another class that is known as inheritnce\n",
    "ex: car, \n",
    "* Polymorphism : \n",
    "poly - many\n",
    "morphism : forms\n",
    "it is an ability of a message to be displayed in more than one form.\n",
    "ex : like a person , speech :  "
   ]
  },
  {
   "cell_type": "markdown",
   "id": "73ece357-4d16-4e5f-a33f-c94e37a461f3",
   "metadata": {},
   "source": [
    "* Class : real world entity or model or blueprint or Human\n",
    "* Object : example , instance"
   ]
  },
  {
   "cell_type": "code",
   "execution_count": null,
   "id": "36e7d75f-6659-4e14-ba27-c45e6f903a4f",
   "metadata": {},
   "outputs": [],
   "source": []
  },
  {
   "cell_type": "code",
   "execution_count": 7,
   "id": "deee18c7-6ae2-4107-93b1-18c4cf9f5cbf",
   "metadata": {},
   "outputs": [],
   "source": [
    "class Bank:\n",
    "    pass"
   ]
  },
  {
   "cell_type": "code",
   "execution_count": 8,
   "id": "43e14dcd-e767-42d0-b913-46b19259a3d4",
   "metadata": {},
   "outputs": [],
   "source": [
    "class Human:\n",
    "    pass"
   ]
  },
  {
   "cell_type": "code",
   "execution_count": 9,
   "id": "ad4d0933-5f36-49aa-a14b-a4117f5d61d7",
   "metadata": {},
   "outputs": [],
   "source": [
    "class Vehiacl:\n",
    "    pass"
   ]
  },
  {
   "cell_type": "code",
   "execution_count": 11,
   "id": "9d702e05-dccb-4925-a0b6-a1ab72ddd4fc",
   "metadata": {},
   "outputs": [
    {
     "data": {
      "text/plain": [
       "__main__.Bank"
      ]
     },
     "execution_count": 11,
     "metadata": {},
     "output_type": "execute_result"
    }
   ],
   "source": [
    "type(Bank())"
   ]
  },
  {
   "cell_type": "code",
   "execution_count": 12,
   "id": "f03003fd-104c-4395-8eae-6db502bdc7aa",
   "metadata": {},
   "outputs": [],
   "source": [
    "g = Human()"
   ]
  },
  {
   "cell_type": "code",
   "execution_count": 13,
   "id": "f7d3ddaf-6e00-4899-88ae-49aadd4fab4f",
   "metadata": {},
   "outputs": [
    {
     "data": {
      "text/plain": [
       "__main__.Human"
      ]
     },
     "execution_count": 13,
     "metadata": {},
     "output_type": "execute_result"
    }
   ],
   "source": [
    "type(g)"
   ]
  },
  {
   "cell_type": "code",
   "execution_count": null,
   "id": "439eb64e-6106-426e-a34c-31c129f8e23d",
   "metadata": {},
   "outputs": [],
   "source": []
  },
  {
   "cell_type": "code",
   "execution_count": 14,
   "id": "59555d79-874e-4701-8dbe-ff1ff86f1a2e",
   "metadata": {},
   "outputs": [],
   "source": [
    "ravi = Human()"
   ]
  },
  {
   "cell_type": "code",
   "execution_count": 15,
   "id": "ddbcba69-daa1-4b33-985b-e9ccca619d3c",
   "metadata": {},
   "outputs": [],
   "source": [
    "rohit = Human()\n"
   ]
  },
  {
   "cell_type": "code",
   "execution_count": 16,
   "id": "38632f44-3b2f-40cc-9899-5a3432c79577",
   "metadata": {},
   "outputs": [],
   "source": [
    "pooja = Human()"
   ]
  },
  {
   "cell_type": "code",
   "execution_count": 17,
   "id": "56170543-0677-459b-8e78-fe3101e901dd",
   "metadata": {},
   "outputs": [],
   "source": [
    "sejal = Human()"
   ]
  },
  {
   "cell_type": "code",
   "execution_count": null,
   "id": "b33edd5f-892e-4fd2-b4c0-c50f05fadb0f",
   "metadata": {},
   "outputs": [],
   "source": []
  },
  {
   "cell_type": "code",
   "execution_count": 40,
   "id": "75908e20-1796-410d-ac65-5376a0530c72",
   "metadata": {},
   "outputs": [],
   "source": [
    "# constructor of a class:\n",
    "#__init__ : they are magic functions. they are called automatically whenever Certain event is happened"
   ]
  },
  {
   "cell_type": "code",
   "execution_count": null,
   "id": "7af6acff-d4de-4e94-9cd0-fb8adbb81a59",
   "metadata": {},
   "outputs": [],
   "source": [
    "# __builtins__\n",
    "# __doc__\n",
    "#__init__"
   ]
  },
  {
   "cell_type": "code",
   "execution_count": 33,
   "id": "fc3ed440-2aee-4118-88ef-61ecb2a7ddcf",
   "metadata": {},
   "outputs": [],
   "source": [
    "class Human():\n",
    "    def __init__(self):\n",
    "        print(\"an object is created..\")"
   ]
  },
  {
   "cell_type": "code",
   "execution_count": 34,
   "id": "0577feb5-1dc5-4bb1-a7e0-795ed0793c5c",
   "metadata": {},
   "outputs": [
    {
     "name": "stdout",
     "output_type": "stream",
     "text": [
      "an object is created..\n"
     ]
    }
   ],
   "source": [
    "ravi = Human()"
   ]
  },
  {
   "cell_type": "code",
   "execution_count": 37,
   "id": "be8bfcdb-fb81-4258-938a-8debc6b5de75",
   "metadata": {},
   "outputs": [
    {
     "name": "stdout",
     "output_type": "stream",
     "text": [
      "an object is created..\n"
     ]
    }
   ],
   "source": [
    "rohit = Human()"
   ]
  },
  {
   "cell_type": "code",
   "execution_count": 38,
   "id": "78b49101-89e1-448d-92f8-d51741537fa9",
   "metadata": {},
   "outputs": [
    {
     "name": "stdout",
     "output_type": "stream",
     "text": [
      "an object is created..\n"
     ]
    }
   ],
   "source": [
    "pooja = Human()"
   ]
  },
  {
   "cell_type": "code",
   "execution_count": 39,
   "id": "caed408c-c9a1-461d-b76b-8bf2ccf849e0",
   "metadata": {},
   "outputs": [
    {
     "name": "stdout",
     "output_type": "stream",
     "text": [
      "an object is created..\n"
     ]
    }
   ],
   "source": [
    "mohit = Human()"
   ]
  },
  {
   "cell_type": "code",
   "execution_count": null,
   "id": "7b1fcbd3-3826-4358-9d93-e4111163776c",
   "metadata": {},
   "outputs": [],
   "source": []
  },
  {
   "cell_type": "code",
   "execution_count": null,
   "id": "95ae8931-d44d-4fd0-969e-2086878adc20",
   "metadata": {},
   "outputs": [],
   "source": []
  },
  {
   "cell_type": "code",
   "execution_count": 1,
   "id": "bfe96cdf-3a5e-4843-82f3-d62b1035845e",
   "metadata": {},
   "outputs": [],
   "source": [
    "class Bank:\n",
    "    pass"
   ]
  },
  {
   "cell_type": "code",
   "execution_count": 5,
   "id": "1cef377f-0ca4-4978-9089-bab2675fdcaf",
   "metadata": {},
   "outputs": [],
   "source": [
    "class Vehical:\n",
    "    pass"
   ]
  },
  {
   "cell_type": "code",
   "execution_count": 6,
   "id": "37f716c7-2410-406b-a009-79f1ceb74aec",
   "metadata": {},
   "outputs": [],
   "source": [
    "sbi = Bank()"
   ]
  },
  {
   "cell_type": "code",
   "execution_count": 7,
   "id": "cef16270-bd5c-4217-b529-3af4a5f99831",
   "metadata": {},
   "outputs": [],
   "source": [
    "car = Vehical()"
   ]
  },
  {
   "cell_type": "code",
   "execution_count": null,
   "id": "b667c7f5-ac3c-4417-ac10-d3fb2687e10a",
   "metadata": {},
   "outputs": [],
   "source": []
  },
  {
   "cell_type": "code",
   "execution_count": 21,
   "id": "f3a10c59-9712-46c6-8ad5-41cd1e80845d",
   "metadata": {},
   "outputs": [],
   "source": [
    "class Human:\n",
    "    def __init__(self,name, age ):\n",
    "        print(\"An object is created...\")\n",
    "\n",
    "        # Instance variables\n",
    "        # attraibute references \n",
    "        self.name = name\n",
    "        self.age = age"
   ]
  },
  {
   "cell_type": "code",
   "execution_count": 22,
   "id": "5b6138fb-5201-4d95-978b-3bbc49651c19",
   "metadata": {},
   "outputs": [
    {
     "name": "stdout",
     "output_type": "stream",
     "text": [
      "An object is created...\n"
     ]
    }
   ],
   "source": [
    "obj1 = Human(\"mohit\", 23)"
   ]
  },
  {
   "cell_type": "code",
   "execution_count": 23,
   "id": "3f080875-2462-49e0-a696-9a1ff4fd4431",
   "metadata": {},
   "outputs": [
    {
     "name": "stdout",
     "output_type": "stream",
     "text": [
      "An object is created...\n"
     ]
    }
   ],
   "source": [
    "obj2 = Human(\"Prateek\", 30)"
   ]
  },
  {
   "cell_type": "code",
   "execution_count": 24,
   "id": "c25dabab-90ff-45da-943c-a5207cb95403",
   "metadata": {},
   "outputs": [
    {
     "data": {
      "text/plain": [
       "23"
      ]
     },
     "execution_count": 24,
     "metadata": {},
     "output_type": "execute_result"
    }
   ],
   "source": [
    "obj1.age"
   ]
  },
  {
   "cell_type": "code",
   "execution_count": 25,
   "id": "ebd04f01-e6b5-4473-a1c7-42c17f448132",
   "metadata": {},
   "outputs": [
    {
     "data": {
      "text/plain": [
       "'mohit'"
      ]
     },
     "execution_count": 25,
     "metadata": {},
     "output_type": "execute_result"
    }
   ],
   "source": [
    "obj1.name"
   ]
  },
  {
   "cell_type": "code",
   "execution_count": 26,
   "id": "5aeaaece-fb7b-4f24-8e35-c11dbf702cbe",
   "metadata": {},
   "outputs": [
    {
     "data": {
      "text/plain": [
       "'Prateek'"
      ]
     },
     "execution_count": 26,
     "metadata": {},
     "output_type": "execute_result"
    }
   ],
   "source": [
    "obj2.name"
   ]
  },
  {
   "cell_type": "code",
   "execution_count": 27,
   "id": "6a01868c-4578-42a8-89ee-ef765a520bfb",
   "metadata": {},
   "outputs": [
    {
     "data": {
      "text/plain": [
       "30"
      ]
     },
     "execution_count": 27,
     "metadata": {},
     "output_type": "execute_result"
    }
   ],
   "source": [
    "obj2.age"
   ]
  },
  {
   "cell_type": "code",
   "execution_count": 28,
   "id": "78a33f53-86cc-4a75-ae0f-70cb3bebeb0b",
   "metadata": {},
   "outputs": [
    {
     "name": "stdout",
     "output_type": "stream",
     "text": [
      "<__main__.Human object at 0x00000279EE223050>\n"
     ]
    }
   ],
   "source": [
    "print(obj2)"
   ]
  },
  {
   "cell_type": "code",
   "execution_count": 29,
   "id": "661881fb-9ab8-4dd2-b05d-6af2d388d430",
   "metadata": {},
   "outputs": [
    {
     "data": {
      "text/plain": [
       "__main__.Human"
      ]
     },
     "execution_count": 29,
     "metadata": {},
     "output_type": "execute_result"
    }
   ],
   "source": [
    "type(obj2)"
   ]
  },
  {
   "cell_type": "code",
   "execution_count": 30,
   "id": "01a6d949-85dc-485f-bad4-d7e341e7c518",
   "metadata": {},
   "outputs": [
    {
     "name": "stdout",
     "output_type": "stream",
     "text": [
      "<__main__.Human object at 0x00000279EE223C50>\n"
     ]
    }
   ],
   "source": [
    "print(obj1)"
   ]
  },
  {
   "cell_type": "code",
   "execution_count": null,
   "id": "9f83737d-d6a6-482b-9cb7-810935dcab59",
   "metadata": {},
   "outputs": [],
   "source": []
  },
  {
   "cell_type": "code",
   "execution_count": 31,
   "id": "445c420a-e990-4604-aeb4-a06b3496d79b",
   "metadata": {},
   "outputs": [],
   "source": [
    "t = 45"
   ]
  },
  {
   "cell_type": "code",
   "execution_count": 33,
   "id": "8204316e-4dd6-4138-8a24-31e11af71305",
   "metadata": {},
   "outputs": [
    {
     "name": "stdout",
     "output_type": "stream",
     "text": [
      "<class 'int'>\n"
     ]
    }
   ],
   "source": [
    "print(type(t))"
   ]
  },
  {
   "cell_type": "code",
   "execution_count": 34,
   "id": "911d3487-82e0-4c93-b9c8-78e981ccc452",
   "metadata": {},
   "outputs": [],
   "source": [
    "j = 45"
   ]
  },
  {
   "cell_type": "code",
   "execution_count": 35,
   "id": "1f01e8c1-1752-4213-8e9d-a73c30c9250a",
   "metadata": {},
   "outputs": [],
   "source": [
    "r = 78\n"
   ]
  },
  {
   "cell_type": "code",
   "execution_count": null,
   "id": "1e2d003f-e77e-498d-837a-9fd1549b725a",
   "metadata": {},
   "outputs": [],
   "source": []
  },
  {
   "cell_type": "code",
   "execution_count": 38,
   "id": "503d362e-97a7-4313-9fca-e9acce980af3",
   "metadata": {},
   "outputs": [],
   "source": [
    "class Human:\n",
    "    def __init__(self,name, age ):\n",
    "        print(\"An object is created...\")\n",
    "        # Instance variables\n",
    "        # attraibute references \n",
    "        self.name = name\n",
    "        self.age = age\n",
    "\n",
    "        #instance methods\n",
    "    def introduce(self):\n",
    "        print(f\"Hi My name is {self.name} and i am {self.age} years old\")\n",
    "    def eating(self):\n",
    "        print(f\"HI my name is {self.name} and i eat to live\")"
   ]
  },
  {
   "cell_type": "code",
   "execution_count": 40,
   "id": "df0724ea-88b4-49d5-b2b7-8d8c9d742218",
   "metadata": {},
   "outputs": [
    {
     "name": "stdout",
     "output_type": "stream",
     "text": [
      "An object is created...\n"
     ]
    }
   ],
   "source": [
    "obj1 = Human(\"Mohit\", 26)"
   ]
  },
  {
   "cell_type": "code",
   "execution_count": 41,
   "id": "0a185b5f-3ebb-4111-af63-5686c6855203",
   "metadata": {},
   "outputs": [
    {
     "name": "stdout",
     "output_type": "stream",
     "text": [
      "An object is created...\n"
     ]
    }
   ],
   "source": [
    "obj2 = Human(\"Prateek\", 30)"
   ]
  },
  {
   "cell_type": "code",
   "execution_count": 42,
   "id": "1a4c3e5b-21c3-44b0-ac4b-7f57fca224bf",
   "metadata": {},
   "outputs": [
    {
     "data": {
      "text/plain": [
       "'Mohit'"
      ]
     },
     "execution_count": 42,
     "metadata": {},
     "output_type": "execute_result"
    }
   ],
   "source": [
    "obj1.name"
   ]
  },
  {
   "cell_type": "code",
   "execution_count": 44,
   "id": "cc1e5149-c97a-46e6-94bd-da47e77f3c4e",
   "metadata": {},
   "outputs": [
    {
     "name": "stdout",
     "output_type": "stream",
     "text": [
      "Hi My name is Mohit and i am 26 years old\n"
     ]
    }
   ],
   "source": [
    "obj1.introduce()"
   ]
  },
  {
   "cell_type": "code",
   "execution_count": 45,
   "id": "1d4fedfb-80d9-4005-a5dd-67fd0a0c8a4f",
   "metadata": {},
   "outputs": [
    {
     "name": "stdout",
     "output_type": "stream",
     "text": [
      "HI my name is Prateek and i eat to live\n"
     ]
    }
   ],
   "source": [
    "obj2.eating()"
   ]
  },
  {
   "cell_type": "code",
   "execution_count": null,
   "id": "47d62536-004b-4e86-b3cf-8f72a8898a03",
   "metadata": {},
   "outputs": [],
   "source": []
  },
  {
   "cell_type": "code",
   "execution_count": null,
   "id": "d1fe4441-9ff7-4b9e-87f2-4b734e73f9c3",
   "metadata": {},
   "outputs": [],
   "source": [
    "class Human:\n",
    "    def __init__(self,name, age ):\n",
    "        print(\"An object is created...\")\n",
    "        # Instance variables\n",
    "        # attraibute references \n",
    "        self.name = name\n",
    "        self.age = age\n",
    "\n",
    "        #instance methods\n",
    "    def introduce(self):\n",
    "        print(f\"Hi My name is {self.name} and i am {self.age} years old\")\n",
    "    def eating(self):\n",
    "        print(f\"HI my name is {self.name} and i eat to live\")"
   ]
  },
  {
   "cell_type": "code",
   "execution_count": 1,
   "id": "9658feca-7f44-47ab-8b2d-4fe569694089",
   "metadata": {},
   "outputs": [],
   "source": [
    "# class Variable : these are applicable to all objects"
   ]
  },
  {
   "cell_type": "code",
   "execution_count": null,
   "id": "a0ff0567-066b-4652-a9be-5908bdef2991",
   "metadata": {},
   "outputs": [],
   "source": []
  },
  {
   "cell_type": "code",
   "execution_count": 32,
   "id": "0106b75c-47ed-4a8e-b974-3b2a66b678ff",
   "metadata": {},
   "outputs": [],
   "source": [
    "class Human:\n",
    "    databse = []\n",
    "    population = 0\n",
    "    id_seq = 101\n",
    "    \n",
    "    def __init__(self,name, age, is_alive = True):\n",
    "        print(\"An object is created...\")\n",
    "        # Instance variables\n",
    "        # attraibute references \n",
    "        self.name = name\n",
    "        self.age = age\n",
    "        self.is_alive = is_alive\n",
    "        self.id = Human.id_seq\n",
    "        Human.id_seq+=1\n",
    "        Human.population+=1\n",
    "        Human.databse.append(self)\n",
    "\n",
    "        #instance methods\n",
    "    def introduce(self):\n",
    "        print(f\"Hi My name is {self.name} and i am {self.age} years old\")\n",
    "    def eating(self):\n",
    "        print(f\"HI my name is {self.name} and i eat to live\")\n",
    "\n",
    "    def __repr__(self):\n",
    "        \"\"\"It will be representing a format \"\"\"\n",
    "        return f\"[{self.id}, {self.name}, {self.age}, {self.is_alive}]\""
   ]
  },
  {
   "cell_type": "code",
   "execution_count": 33,
   "id": "1eba5002-2852-4cfa-8d24-87cada2859b8",
   "metadata": {},
   "outputs": [
    {
     "name": "stdout",
     "output_type": "stream",
     "text": [
      "An object is created...\n"
     ]
    }
   ],
   "source": [
    "obj1 = Human(\"mohit\", 25)\n",
    "obj2 = Human(\"Prateek\", 35)\n",
    "obj3 = Human(\"Sam\", 20)"
   ]
  },
  {
   "cell_type": "code",
   "execution_count": 34,
   "id": "ed646d94-562e-4c4b-9eb3-557e04e7ec63",
   "metadata": {},
   "outputs": [
    {
     "data": {
      "text/plain": [
       "25"
      ]
     },
     "execution_count": 34,
     "metadata": {},
     "output_type": "execute_result"
    }
   ],
   "source": [
    "obj1.age"
   ]
  },
  {
   "cell_type": "code",
   "execution_count": 35,
   "id": "097cbbc1-d4ad-4056-840d-17dd325376d3",
   "metadata": {},
   "outputs": [
    {
     "data": {
      "text/plain": [
       "'mohit'"
      ]
     },
     "execution_count": 35,
     "metadata": {},
     "output_type": "execute_result"
    }
   ],
   "source": [
    "obj1.name"
   ]
  },
  {
   "cell_type": "code",
   "execution_count": 36,
   "id": "49755278-822a-416a-9eae-8f54e55df0d8",
   "metadata": {},
   "outputs": [
    {
     "name": "stdout",
     "output_type": "stream",
     "text": [
      "Hi My name is mohit and i am 25 years old\n"
     ]
    }
   ],
   "source": [
    "obj1.introduce()"
   ]
  },
  {
   "cell_type": "code",
   "execution_count": 37,
   "id": "7a11fe38-ea8c-45b6-a7ae-b50c5c16ca89",
   "metadata": {},
   "outputs": [
    {
     "data": {
      "text/plain": [
       "True"
      ]
     },
     "execution_count": 37,
     "metadata": {},
     "output_type": "execute_result"
    }
   ],
   "source": [
    "obj1.is_alive"
   ]
  },
  {
   "cell_type": "code",
   "execution_count": 38,
   "id": "d5c575de-6033-47af-9e42-c674e4aef7ae",
   "metadata": {},
   "outputs": [
    {
     "data": {
      "text/plain": [
       "1"
      ]
     },
     "execution_count": 38,
     "metadata": {},
     "output_type": "execute_result"
    }
   ],
   "source": [
    "Human.population"
   ]
  },
  {
   "cell_type": "code",
   "execution_count": 39,
   "id": "b9deb720-8c92-4dfd-852e-59ac5a6d0459",
   "metadata": {},
   "outputs": [
    {
     "name": "stdout",
     "output_type": "stream",
     "text": [
      "An object is created...\n"
     ]
    }
   ],
   "source": [
    "obj2 = Human(\"Prateek\", 35)"
   ]
  },
  {
   "cell_type": "code",
   "execution_count": 40,
   "id": "2fcebc08-914e-4501-b816-b8704c355ef1",
   "metadata": {},
   "outputs": [
    {
     "data": {
      "text/plain": [
       "2"
      ]
     },
     "execution_count": 40,
     "metadata": {},
     "output_type": "execute_result"
    }
   ],
   "source": [
    "Human.population"
   ]
  },
  {
   "cell_type": "code",
   "execution_count": 41,
   "id": "2d0791ec-d1f7-4749-8bed-b02b2c4ae625",
   "metadata": {},
   "outputs": [
    {
     "name": "stdout",
     "output_type": "stream",
     "text": [
      "An object is created...\n"
     ]
    }
   ],
   "source": [
    "obj3 = Human(\"Sam\", 20)"
   ]
  },
  {
   "cell_type": "code",
   "execution_count": 42,
   "id": "06ac7540-966f-4450-ac73-cbccbac89690",
   "metadata": {},
   "outputs": [
    {
     "data": {
      "text/plain": [
       "3"
      ]
     },
     "execution_count": 42,
     "metadata": {},
     "output_type": "execute_result"
    }
   ],
   "source": [
    "Human.population"
   ]
  },
  {
   "cell_type": "code",
   "execution_count": 44,
   "id": "4d20821d-ed5d-46c0-b62f-f43fa8a66b8e",
   "metadata": {},
   "outputs": [
    {
     "data": {
      "text/plain": [
       "[[101, mohit, 25, True], [102, Prateek, 35, True], [103, Sam, 20, True]]"
      ]
     },
     "execution_count": 44,
     "metadata": {},
     "output_type": "execute_result"
    }
   ],
   "source": [
    "Human.databse"
   ]
  },
  {
   "cell_type": "code",
   "execution_count": 45,
   "id": "0da81bb7-faff-469a-ba02-3c6a948925f6",
   "metadata": {},
   "outputs": [
    {
     "data": {
      "text/plain": [
       "101"
      ]
     },
     "execution_count": 45,
     "metadata": {},
     "output_type": "execute_result"
    }
   ],
   "source": [
    "obj1.id"
   ]
  },
  {
   "cell_type": "code",
   "execution_count": 46,
   "id": "64f5044f-731f-446e-9728-26964f5b11c3",
   "metadata": {},
   "outputs": [
    {
     "data": {
      "text/plain": [
       "102"
      ]
     },
     "execution_count": 46,
     "metadata": {},
     "output_type": "execute_result"
    }
   ],
   "source": [
    "obj2.id"
   ]
  },
  {
   "cell_type": "code",
   "execution_count": 47,
   "id": "d2f1ab11-7042-432c-86a7-c253b65fff64",
   "metadata": {},
   "outputs": [
    {
     "data": {
      "text/plain": [
       "103"
      ]
     },
     "execution_count": 47,
     "metadata": {},
     "output_type": "execute_result"
    }
   ],
   "source": [
    "obj3.id"
   ]
  },
  {
   "cell_type": "code",
   "execution_count": 48,
   "id": "2ad2c89c-505b-4db1-b9b0-925c80af7ec4",
   "metadata": {},
   "outputs": [
    {
     "data": {
      "text/plain": [
       "[[101, mohit, 25, True], [102, Prateek, 35, True], [103, Sam, 20, True]]"
      ]
     },
     "execution_count": 48,
     "metadata": {},
     "output_type": "execute_result"
    }
   ],
   "source": [
    "Human.databse"
   ]
  },
  {
   "cell_type": "code",
   "execution_count": 49,
   "id": "b1f67080-c0cc-47b8-905c-e932045ce95c",
   "metadata": {},
   "outputs": [
    {
     "data": {
      "text/plain": [
       "[101, mohit, 25, True]"
      ]
     },
     "execution_count": 49,
     "metadata": {},
     "output_type": "execute_result"
    }
   ],
   "source": [
    "obj1"
   ]
  },
  {
   "cell_type": "code",
   "execution_count": 50,
   "id": "c111af88-15e6-4a78-8059-02d563a9fa23",
   "metadata": {},
   "outputs": [
    {
     "data": {
      "text/plain": [
       "[103, Sam, 20, True]"
      ]
     },
     "execution_count": 50,
     "metadata": {},
     "output_type": "execute_result"
    }
   ],
   "source": [
    "obj3"
   ]
  },
  {
   "cell_type": "code",
   "execution_count": 22,
   "id": "7e80150c-2f54-47ea-9b8b-9f01b849b101",
   "metadata": {},
   "outputs": [],
   "source": [
    "# magic functions :"
   ]
  },
  {
   "cell_type": "code",
   "execution_count": null,
   "id": "ab7c0cf4-056a-431e-9a37-3132b5a20468",
   "metadata": {},
   "outputs": [],
   "source": [
    "__builtins__\n",
    "__doc__\n",
    "__init__\n",
    "__repr__"
   ]
  },
  {
   "cell_type": "code",
   "execution_count": 23,
   "id": "2d372675-5467-4174-872a-31b892b68724",
   "metadata": {},
   "outputs": [],
   "source": [
    "h = [7,8,9]"
   ]
  },
  {
   "cell_type": "code",
   "execution_count": 24,
   "id": "99d64dcd-7df2-4ce0-8f90-7a1f3185cd94",
   "metadata": {},
   "outputs": [
    {
     "data": {
      "text/plain": [
       "[7, 8, 9]"
      ]
     },
     "execution_count": 24,
     "metadata": {},
     "output_type": "execute_result"
    }
   ],
   "source": [
    "h\n"
   ]
  },
  {
   "cell_type": "code",
   "execution_count": 25,
   "id": "bea7ef04-eb76-4b4d-944f-2185f4f51fcb",
   "metadata": {},
   "outputs": [
    {
     "data": {
      "text/plain": [
       "list"
      ]
     },
     "execution_count": 25,
     "metadata": {},
     "output_type": "execute_result"
    }
   ],
   "source": [
    "type(h)"
   ]
  },
  {
   "cell_type": "code",
   "execution_count": 26,
   "id": "06a50194-a843-4e26-9acc-027efd5ca9a8",
   "metadata": {},
   "outputs": [],
   "source": [
    "p = \"123\""
   ]
  },
  {
   "cell_type": "code",
   "execution_count": 28,
   "id": "bb8460ad-7727-43a7-a754-4133496e5aaa",
   "metadata": {},
   "outputs": [
    {
     "data": {
      "text/plain": [
       "str"
      ]
     },
     "execution_count": 28,
     "metadata": {},
     "output_type": "execute_result"
    }
   ],
   "source": [
    "type(p)"
   ]
  },
  {
   "cell_type": "code",
   "execution_count": 29,
   "id": "0d40e08c-b16a-431e-b684-f3d708f70645",
   "metadata": {},
   "outputs": [],
   "source": [
    "n = (12,14,15)"
   ]
  },
  {
   "cell_type": "code",
   "execution_count": 30,
   "id": "7025a1b1-3a36-4eb8-90ca-9b500c704310",
   "metadata": {},
   "outputs": [
    {
     "data": {
      "text/plain": [
       "tuple"
      ]
     },
     "execution_count": 30,
     "metadata": {},
     "output_type": "execute_result"
    }
   ],
   "source": [
    "type(n)"
   ]
  },
  {
   "cell_type": "code",
   "execution_count": 31,
   "id": "44696df3-a3c7-464c-a2cf-fb8b73e1436d",
   "metadata": {},
   "outputs": [
    {
     "data": {
      "text/plain": [
       "['__add__',\n",
       " '__class__',\n",
       " '__class_getitem__',\n",
       " '__contains__',\n",
       " '__delattr__',\n",
       " '__delitem__',\n",
       " '__dir__',\n",
       " '__doc__',\n",
       " '__eq__',\n",
       " '__format__',\n",
       " '__ge__',\n",
       " '__getattribute__',\n",
       " '__getitem__',\n",
       " '__getstate__',\n",
       " '__gt__',\n",
       " '__hash__',\n",
       " '__iadd__',\n",
       " '__imul__',\n",
       " '__init__',\n",
       " '__init_subclass__',\n",
       " '__iter__',\n",
       " '__le__',\n",
       " '__len__',\n",
       " '__lt__',\n",
       " '__mul__',\n",
       " '__ne__',\n",
       " '__new__',\n",
       " '__reduce__',\n",
       " '__reduce_ex__',\n",
       " '__repr__',\n",
       " '__reversed__',\n",
       " '__rmul__',\n",
       " '__setattr__',\n",
       " '__setitem__',\n",
       " '__sizeof__',\n",
       " '__str__',\n",
       " '__subclasshook__',\n",
       " 'append',\n",
       " 'clear',\n",
       " 'copy',\n",
       " 'count',\n",
       " 'extend',\n",
       " 'index',\n",
       " 'insert',\n",
       " 'pop',\n",
       " 'remove',\n",
       " 'reverse',\n",
       " 'sort']"
      ]
     },
     "execution_count": 31,
     "metadata": {},
     "output_type": "execute_result"
    }
   ],
   "source": [
    "dir(h)"
   ]
  },
  {
   "cell_type": "code",
   "execution_count": 51,
   "id": "e034180a-e110-4b19-8cdf-0236d488ef81",
   "metadata": {},
   "outputs": [],
   "source": [
    "# adding die functionality"
   ]
  },
  {
   "cell_type": "code",
   "execution_count": 64,
   "id": "7c997224-ce6f-4826-8882-a29398eeaa03",
   "metadata": {},
   "outputs": [],
   "source": [
    "class Human:\n",
    "    databse = []\n",
    "    population = 0\n",
    "    id_seq = 101\n",
    "    \n",
    "    def __init__(self,name, age, is_alive = True):\n",
    "        print(\"An object is created...\")\n",
    "        # Instance variables\n",
    "        # attraibute references \n",
    "        self.name = name\n",
    "        self.age = age\n",
    "        self.is_alive = is_alive\n",
    "        self.id = Human.id_seq\n",
    "        Human.id_seq+=1\n",
    "        Human.population+=1\n",
    "        Human.databse.append(self)\n",
    "\n",
    "        #instance methods\n",
    "    def introduce(self):\n",
    "        print(f\"Hi My name is {self.name} and i am {self.age} years old\")\n",
    "    def eating(self):\n",
    "        print(f\"HI my name is {self.name} and i eat to live\")\n",
    "\n",
    "    def __repr__(self):\n",
    "        \"\"\"It will be representing a format \"\"\"\n",
    "        return f\"[{self.id}, {self.name}, {self.age}, {self.is_alive}]\"\n",
    "\n",
    "    def die(self):\n",
    "        if self.is_alive:\n",
    "            print(f\"{self.name} is dying.....\")\n",
    "            self.is_alive = False\n",
    "            Human.population-=1\n",
    "        else:  \n",
    "            print(f\"{self.name} is already dead..\")\n",
    "         "
   ]
  },
  {
   "cell_type": "code",
   "execution_count": 65,
   "id": "25fd1919-d776-47a4-a713-f5799b89253a",
   "metadata": {},
   "outputs": [
    {
     "name": "stdout",
     "output_type": "stream",
     "text": [
      "An object is created...\n",
      "An object is created...\n",
      "An object is created...\n"
     ]
    }
   ],
   "source": [
    "obj1 = Human(\"mohit\", 25)\n",
    "obj2 = Human(\"Prateek\", 35)\n",
    "obj3 = Human(\"Sam\", 20)"
   ]
  },
  {
   "cell_type": "code",
   "execution_count": 66,
   "id": "c59b0d4d-0109-45ce-89a2-7064a130faae",
   "metadata": {},
   "outputs": [
    {
     "data": {
      "text/plain": [
       "3"
      ]
     },
     "execution_count": 66,
     "metadata": {},
     "output_type": "execute_result"
    }
   ],
   "source": [
    "Human.population"
   ]
  },
  {
   "cell_type": "code",
   "execution_count": 67,
   "id": "ec17f9f3-865a-4cfa-a332-c9ff2cb82a53",
   "metadata": {},
   "outputs": [
    {
     "data": {
      "text/plain": [
       "[[101, mohit, 25, True], [102, Prateek, 35, True], [103, Sam, 20, True]]"
      ]
     },
     "execution_count": 67,
     "metadata": {},
     "output_type": "execute_result"
    }
   ],
   "source": [
    "Human.databse"
   ]
  },
  {
   "cell_type": "code",
   "execution_count": 68,
   "id": "a6106124-bd5a-44e2-9aee-22bedd480f7d",
   "metadata": {},
   "outputs": [
    {
     "name": "stdout",
     "output_type": "stream",
     "text": [
      "mohit is dying.....\n"
     ]
    }
   ],
   "source": [
    "obj1.die()"
   ]
  },
  {
   "cell_type": "code",
   "execution_count": 69,
   "id": "035d4e61-4149-4501-94f9-dcffb0bc319a",
   "metadata": {},
   "outputs": [
    {
     "data": {
      "text/plain": [
       "2"
      ]
     },
     "execution_count": 69,
     "metadata": {},
     "output_type": "execute_result"
    }
   ],
   "source": [
    "Human.population"
   ]
  },
  {
   "cell_type": "code",
   "execution_count": 82,
   "id": "1f88e62c-5ee3-4b3b-b17f-e83e34373c9b",
   "metadata": {},
   "outputs": [
    {
     "name": "stdout",
     "output_type": "stream",
     "text": [
      "mohit is already dead..\n"
     ]
    }
   ],
   "source": [
    "obj1.die()"
   ]
  },
  {
   "cell_type": "code",
   "execution_count": 83,
   "id": "201c7195-542d-4246-9cdd-347f52d6ccba",
   "metadata": {},
   "outputs": [
    {
     "data": {
      "text/plain": [
       "2"
      ]
     },
     "execution_count": 83,
     "metadata": {},
     "output_type": "execute_result"
    }
   ],
   "source": [
    "Human.population"
   ]
  },
  {
   "cell_type": "code",
   "execution_count": null,
   "id": "8e621b64-72fb-417c-aef1-b07eb8f8691f",
   "metadata": {},
   "outputs": [],
   "source": []
  },
  {
   "cell_type": "markdown",
   "id": "7c302682-699f-41f4-8a53-c1352c338bf3",
   "metadata": {},
   "source": [
    "# inheritance : whenever we are taking some properties and methods from one class to another:\n",
    "\n",
    "* Sigle level inheritance\n",
    "* Multi level inheritance\n",
    "* Multiple inheritance"
   ]
  },
  {
   "cell_type": "code",
   "execution_count": null,
   "id": "c3fbcfca-796c-4274-a5c4-e94a1fe2d4de",
   "metadata": {},
   "outputs": [],
   "source": []
  },
  {
   "cell_type": "code",
   "execution_count": 31,
   "id": "90d6cc8b-6942-4302-81fc-71878035f3a1",
   "metadata": {},
   "outputs": [],
   "source": [
    "class Human:\n",
    "    databse = []\n",
    "    population = 0\n",
    "    id_seq = 101\n",
    "    \n",
    "    def __init__(self,name, age, is_alive = True):\n",
    "        print(\"An object is created...\")\n",
    "        # Instance variables\n",
    "        # attraibute references \n",
    "        self.name = name\n",
    "        self.age = age\n",
    "        self.is_alive = is_alive\n",
    "        self.id = Human.id_seq\n",
    "        Human.id_seq+=1\n",
    "        Human.population+=1\n",
    "        Human.databse.append(self)\n",
    "\n",
    "        #instance methods\n",
    "    def introduce(self):\n",
    "        print(f\"Hi My name is {self.name} and i am {self.age} years old\")\n",
    "    def eating(self):\n",
    "        print(f\"HI my name is {self.name} and i eat to live\")\n",
    "\n",
    "    def __repr__(self):\n",
    "        \"\"\"It will be representing a format \"\"\"\n",
    "        return f\"[{self.id}, {self.name}, {self.age}, {self.is_alive}]\"\n",
    "\n",
    "    def die(self):\n",
    "        if self.is_alive:\n",
    "            print(f\"{self.name} is dying.....\")\n",
    "            self.is_alive = False\n",
    "            Human.population-=1\n",
    "        else:  \n",
    "            print(f\"{self.name} is already dead..\")"
   ]
  },
  {
   "cell_type": "code",
   "execution_count": 32,
   "id": "bae64b37-8e0d-417d-9070-a32cdf46fa43",
   "metadata": {},
   "outputs": [],
   "source": [
    "# Sigle level inheritance:"
   ]
  },
  {
   "cell_type": "code",
   "execution_count": 33,
   "id": "2fce4eb8-b150-4a01-8125-8b892151727c",
   "metadata": {},
   "outputs": [],
   "source": [
    "class Hitman(Human):\n",
    "    def __init__(self, name, age):\n",
    "        super().__init__(name, age)\n",
    "\n",
    "        self.kills = 0\n",
    "        self.kill_list = []\n",
    "\n",
    "\n",
    "    # function overridding\n",
    "    def introduce(self):\n",
    "        print(f\"Hi My name is {self.name} and i have  killed {self.kills} persons\")\n",
    "\n",
    "    def killing(self, person):\n",
    "        if person.is_alive:\n",
    "            print(f\"{self.name} is killing {person.name}\")\n",
    "            person.die()\n",
    "            self.kills+=1\n",
    "            self.kill_list.append(person.name)\n",
    "        else:\n",
    "            print(f\"{person.name} is already killed by someone...\")\n",
    "        "
   ]
  },
  {
   "cell_type": "code",
   "execution_count": 34,
   "id": "91d1ffd4-f43b-4bbb-bdbd-33714047b6d6",
   "metadata": {},
   "outputs": [
    {
     "name": "stdout",
     "output_type": "stream",
     "text": [
      "An object is created...\n",
      "An object is created...\n",
      "An object is created...\n"
     ]
    }
   ],
   "source": [
    "obj1 = Human(\"mohit\", 25)\n",
    "obj2 = Human(\"Prateek\", 35)\n",
    "obj3 = Human(\"Sam\", 20)"
   ]
  },
  {
   "cell_type": "code",
   "execution_count": null,
   "id": "2cd2be92-6080-4196-ba33-429ab6fa7ac3",
   "metadata": {},
   "outputs": [],
   "source": []
  },
  {
   "cell_type": "code",
   "execution_count": 35,
   "id": "e16de40e-5f8c-419f-90d0-667a6774ba6a",
   "metadata": {},
   "outputs": [
    {
     "name": "stdout",
     "output_type": "stream",
     "text": [
      "An object is created...\n"
     ]
    }
   ],
   "source": [
    "bond = Hitman(\"james\", 45)"
   ]
  },
  {
   "cell_type": "code",
   "execution_count": 36,
   "id": "da11bea9-5364-4fb3-ab4a-60b2f4eddd31",
   "metadata": {},
   "outputs": [
    {
     "name": "stdout",
     "output_type": "stream",
     "text": [
      "Hi My name is mohit and i am 25 years old\n"
     ]
    }
   ],
   "source": [
    "obj1.introduce()"
   ]
  },
  {
   "cell_type": "code",
   "execution_count": 37,
   "id": "7149dc78-0339-4a5e-8629-88e5549cca18",
   "metadata": {},
   "outputs": [
    {
     "name": "stdout",
     "output_type": "stream",
     "text": [
      "Hi My name is james and i have  killed 0 persons\n"
     ]
    }
   ],
   "source": [
    "bond.introduce()"
   ]
  },
  {
   "cell_type": "code",
   "execution_count": 38,
   "id": "2e23b5d8-684d-453b-8e26-678465205e4e",
   "metadata": {},
   "outputs": [
    {
     "data": {
      "text/plain": [
       "[]"
      ]
     },
     "execution_count": 38,
     "metadata": {},
     "output_type": "execute_result"
    }
   ],
   "source": [
    "bond.kill_list"
   ]
  },
  {
   "cell_type": "code",
   "execution_count": 39,
   "id": "0a62181d-7d26-485d-81ff-4b6b78372c7e",
   "metadata": {},
   "outputs": [
    {
     "data": {
      "text/plain": [
       "0"
      ]
     },
     "execution_count": 39,
     "metadata": {},
     "output_type": "execute_result"
    }
   ],
   "source": [
    "bond.kills"
   ]
  },
  {
   "cell_type": "code",
   "execution_count": 49,
   "id": "0d616b77-116b-48bc-8f90-b3e334b50a04",
   "metadata": {},
   "outputs": [
    {
     "name": "stdout",
     "output_type": "stream",
     "text": [
      "Prateek is already killed by someone...\n"
     ]
    }
   ],
   "source": [
    "bond.killing(obj2)"
   ]
  },
  {
   "cell_type": "code",
   "execution_count": 50,
   "id": "62b83d04-bc0e-410a-b9e4-e017141cbd94",
   "metadata": {},
   "outputs": [
    {
     "data": {
      "text/plain": [
       "1"
      ]
     },
     "execution_count": 50,
     "metadata": {},
     "output_type": "execute_result"
    }
   ],
   "source": [
    "bond.kills\n"
   ]
  },
  {
   "cell_type": "code",
   "execution_count": 51,
   "id": "2ed89bbc-a340-43ab-b155-aff87ba220b7",
   "metadata": {},
   "outputs": [
    {
     "data": {
      "text/plain": [
       "['Prateek']"
      ]
     },
     "execution_count": 51,
     "metadata": {},
     "output_type": "execute_result"
    }
   ],
   "source": [
    "bond.kill_list"
   ]
  },
  {
   "cell_type": "code",
   "execution_count": 52,
   "id": "7c47083d-0cb0-4c09-b776-d02554ea1795",
   "metadata": {},
   "outputs": [
    {
     "name": "stdout",
     "output_type": "stream",
     "text": [
      "Hi My name is james and i have  killed 1 persons\n"
     ]
    }
   ],
   "source": [
    "bond.introduce()"
   ]
  },
  {
   "cell_type": "code",
   "execution_count": null,
   "id": "4bba43c0-1740-4a9e-99c1-8f1f437d9a10",
   "metadata": {},
   "outputs": [],
   "source": []
  },
  {
   "cell_type": "code",
   "execution_count": null,
   "id": "4c51d2c6-e745-45da-880f-16e7c11b8cb3",
   "metadata": {},
   "outputs": [],
   "source": []
  },
  {
   "cell_type": "code",
   "execution_count": 60,
   "id": "319594d5-66da-4704-9712-180ccf61bf78",
   "metadata": {},
   "outputs": [],
   "source": [
    "#Multi level inheritance"
   ]
  },
  {
   "cell_type": "code",
   "execution_count": 61,
   "id": "dbe760c6-ae63-4b63-8893-8a95d8c5087b",
   "metadata": {},
   "outputs": [],
   "source": [
    "class A:\n",
    "    def explore(self):\n",
    "        print(\"I am exlporing in class A\")"
   ]
  },
  {
   "cell_type": "code",
   "execution_count": 62,
   "id": "c984c6bd-65ca-41ce-82ef-b10c8945df4a",
   "metadata": {},
   "outputs": [],
   "source": [
    "class B(A):\n",
    "    def discover(self):\n",
    "        print(\"I am discoverimng in class B\")\n",
    "\n",
    "    def search(self):\n",
    "        print(\"I am searcghing in class B\")"
   ]
  },
  {
   "cell_type": "code",
   "execution_count": 63,
   "id": "e1b130c0-0992-4844-95d2-806665d8d127",
   "metadata": {},
   "outputs": [],
   "source": [
    "class C(B):\n",
    "    def discover(self):\n",
    "        print(\"i am discovering in class C\")\n",
    "\n",
    "    def Optimise(self):\n",
    "        print(\"I am optimizing in class C\")"
   ]
  },
  {
   "cell_type": "code",
   "execution_count": 64,
   "id": "557924bc-4617-49c7-939c-a5216096a908",
   "metadata": {},
   "outputs": [],
   "source": [
    "class D(C):\n",
    "    def making(self):\n",
    "        print(\"I am making something inn class D\")\n",
    "\n",
    "    def Optimise(self):\n",
    "        print(\" I am optimizing in class D\")"
   ]
  },
  {
   "cell_type": "code",
   "execution_count": null,
   "id": "0beaf15c-dd6d-4fc6-ab56-f05c42c428a2",
   "metadata": {},
   "outputs": [],
   "source": []
  },
  {
   "cell_type": "code",
   "execution_count": 65,
   "id": "30b56072-e71c-4478-8d7a-10d11f17e539",
   "metadata": {},
   "outputs": [],
   "source": [
    "a = A()\n",
    "b = B()\n",
    "c = C()\n",
    "d = D()"
   ]
  },
  {
   "cell_type": "code",
   "execution_count": 66,
   "id": "a6735b9c-cb3e-493a-87e2-e48c7153cf8c",
   "metadata": {},
   "outputs": [
    {
     "name": "stdout",
     "output_type": "stream",
     "text": [
      "I am exlporing in class A\n"
     ]
    }
   ],
   "source": [
    "a.explore()"
   ]
  },
  {
   "cell_type": "code",
   "execution_count": 67,
   "id": "2da06bbf-f69e-43d3-9375-0db24c3282f0",
   "metadata": {},
   "outputs": [
    {
     "name": "stdout",
     "output_type": "stream",
     "text": [
      "I am exlporing in class A\n"
     ]
    }
   ],
   "source": [
    "b.explore()"
   ]
  },
  {
   "cell_type": "code",
   "execution_count": 68,
   "id": "6770697f-2c18-4880-94f8-b10516eb8e89",
   "metadata": {},
   "outputs": [
    {
     "name": "stdout",
     "output_type": "stream",
     "text": [
      "I am searcghing in class B\n"
     ]
    }
   ],
   "source": [
    "b.search()"
   ]
  },
  {
   "cell_type": "code",
   "execution_count": 69,
   "id": "22f3e456-8ade-49a5-aa3f-c96a24eda9bb",
   "metadata": {},
   "outputs": [
    {
     "name": "stdout",
     "output_type": "stream",
     "text": [
      "i am discovering in class C\n"
     ]
    }
   ],
   "source": [
    "c.discover()"
   ]
  },
  {
   "cell_type": "code",
   "execution_count": 70,
   "id": "a5b2d2b5-6b27-4a4e-9956-8c645d646d24",
   "metadata": {},
   "outputs": [
    {
     "name": "stdout",
     "output_type": "stream",
     "text": [
      "I am searcghing in class B\n"
     ]
    }
   ],
   "source": [
    "c.search()"
   ]
  },
  {
   "cell_type": "code",
   "execution_count": 71,
   "id": "647491e0-e095-4122-ab8d-464c24ee6469",
   "metadata": {},
   "outputs": [
    {
     "name": "stdout",
     "output_type": "stream",
     "text": [
      "I am optimizing in class C\n"
     ]
    }
   ],
   "source": [
    "c.Optimise()"
   ]
  },
  {
   "cell_type": "code",
   "execution_count": 72,
   "id": "33551bbc-19a6-40d8-b0d5-994e7082e3a4",
   "metadata": {},
   "outputs": [
    {
     "name": "stdout",
     "output_type": "stream",
     "text": [
      " I am optimizing in class D\n"
     ]
    }
   ],
   "source": [
    "d.Optimise()"
   ]
  },
  {
   "cell_type": "code",
   "execution_count": 73,
   "id": "628fc3a2-8b4e-496e-b934-59ab06ae5aaf",
   "metadata": {},
   "outputs": [
    {
     "name": "stdout",
     "output_type": "stream",
     "text": [
      "I am exlporing in class A\n"
     ]
    }
   ],
   "source": [
    "d.explore()"
   ]
  },
  {
   "cell_type": "code",
   "execution_count": null,
   "id": "73a8d78b-9741-43b6-bdfc-0e1bc4fd2260",
   "metadata": {},
   "outputs": [],
   "source": []
  },
  {
   "cell_type": "code",
   "execution_count": 74,
   "id": "afa7c87b-abcb-4edf-9e36-8396b1e227e0",
   "metadata": {},
   "outputs": [],
   "source": [
    "# Multiple inheritance"
   ]
  },
  {
   "cell_type": "code",
   "execution_count": 84,
   "id": "bd1bb672-d3f8-4611-a082-47bb583ffa15",
   "metadata": {},
   "outputs": [],
   "source": [
    "class A:\n",
    "    def explore(self):\n",
    "        print(\"I am exlporing in class A\")"
   ]
  },
  {
   "cell_type": "code",
   "execution_count": 85,
   "id": "ab694697-6ba6-4ca2-b15a-d85fdea9b645",
   "metadata": {},
   "outputs": [],
   "source": [
    "class B():\n",
    "    def discover(self):\n",
    "        print(\"I am discoverimng in class B\")\n",
    "\n",
    "    def search(self):\n",
    "        print(\"I am searcghing in class B\")"
   ]
  },
  {
   "cell_type": "code",
   "execution_count": 86,
   "id": "518b58e5-0e19-44d1-a8a7-42c5cee3c647",
   "metadata": {},
   "outputs": [],
   "source": [
    "class C():\n",
    "    def discover(self):\n",
    "        print(\"i am discovering in class C\")\n",
    "\n",
    "    def Optimise(self):\n",
    "        print(\"I am optimizing in class C\")"
   ]
  },
  {
   "cell_type": "code",
   "execution_count": 87,
   "id": "2d490d80-498f-4fae-928b-7f37b34dceb7",
   "metadata": {},
   "outputs": [],
   "source": [
    "class D(A,C,B):\n",
    "    def making(self):\n",
    "        print(\"I am making something inn class D\")\n",
    "\n",
    "    def Optimise(self):\n",
    "        print(\" I am optimizing in class D\")"
   ]
  },
  {
   "cell_type": "code",
   "execution_count": 88,
   "id": "f3474e43-45d5-476a-ae2a-d067a5af7233",
   "metadata": {},
   "outputs": [],
   "source": [
    "a = A()\n",
    "b = B()\n",
    "c = C()\n",
    "d = D()"
   ]
  },
  {
   "cell_type": "code",
   "execution_count": 89,
   "id": "ba67212f-868a-4afd-93e3-e950f385c69c",
   "metadata": {},
   "outputs": [
    {
     "name": "stdout",
     "output_type": "stream",
     "text": [
      "I am exlporing in class A\n"
     ]
    }
   ],
   "source": [
    "d.explore()"
   ]
  },
  {
   "cell_type": "code",
   "execution_count": 90,
   "id": "2f249e5d-d5f5-4d60-bf4b-df6fc9ed0a4e",
   "metadata": {},
   "outputs": [
    {
     "name": "stdout",
     "output_type": "stream",
     "text": [
      " I am optimizing in class D\n"
     ]
    }
   ],
   "source": [
    "d.Optimise()"
   ]
  },
  {
   "cell_type": "code",
   "execution_count": 91,
   "id": "8b6284bc-1411-494e-bfcd-ffbf11fcf139",
   "metadata": {},
   "outputs": [
    {
     "name": "stdout",
     "output_type": "stream",
     "text": [
      "i am discovering in class C\n"
     ]
    }
   ],
   "source": [
    "d.discover()"
   ]
  },
  {
   "cell_type": "code",
   "execution_count": null,
   "id": "0ac4fe0b-fa16-40d6-a1db-3113de5b39bd",
   "metadata": {},
   "outputs": [],
   "source": []
  },
  {
   "cell_type": "raw",
   "id": "8b7b500a-0221-457e-b69a-05dc9df1d8da",
   "metadata": {},
   "source": [
    "Create a Class for a Rectangle\n",
    "\n",
    "Problem: Write a class Rectangle that calculates the area and perimeter of a rectangle."
   ]
  },
  {
   "cell_type": "code",
   "execution_count": 38,
   "id": "47530b44-453e-41ee-8268-5cf4d12d4e9d",
   "metadata": {},
   "outputs": [],
   "source": [
    "class Rectangle:\n",
    "    def area(self , length , breath):\n",
    "        return length*breath\n",
    "    def perimeter(self , length , breath):\n",
    "        return 2*(length+breath)   "
   ]
  },
  {
   "cell_type": "code",
   "execution_count": 40,
   "id": "417ba015-36c9-4a6d-b5fb-ebad7b8abc4f",
   "metadata": {},
   "outputs": [],
   "source": [
    "my_shape1 = Rectangle()"
   ]
  },
  {
   "cell_type": "code",
   "execution_count": 42,
   "id": "0a6e4087-d64c-4bfc-874b-02712426f502",
   "metadata": {},
   "outputs": [
    {
     "data": {
      "text/plain": [
       "6"
      ]
     },
     "execution_count": 42,
     "metadata": {},
     "output_type": "execute_result"
    }
   ],
   "source": [
    "my_shape1.area(2,3)"
   ]
  },
  {
   "cell_type": "code",
   "execution_count": 44,
   "id": "2ea665b7-c49e-4809-81d5-ca133a10c950",
   "metadata": {},
   "outputs": [
    {
     "data": {
      "text/plain": [
       "10"
      ]
     },
     "execution_count": 44,
     "metadata": {},
     "output_type": "execute_result"
    }
   ],
   "source": [
    "my_shape1.perimeter(2,3)"
   ]
  },
  {
   "cell_type": "code",
   "execution_count": 62,
   "id": "f06ff16d-0b51-41e6-a967-9bd7c5cb338a",
   "metadata": {},
   "outputs": [],
   "source": [
    "class Rectangle:\n",
    "    def __init__(self , length , breath):\n",
    "        self.length = length\n",
    "        self.breath = breath\n",
    "    def area(self):\n",
    "        return self.length * self.breath\n",
    "    def perimeter(self):\n",
    "        return 2*(self.length + self.breath)"
   ]
  },
  {
   "cell_type": "code",
   "execution_count": 64,
   "id": "b73bc34a-3ed7-45e1-8a51-1d4f15df6715",
   "metadata": {},
   "outputs": [],
   "source": [
    "my_shape1 = Rectangle(2  , 5)"
   ]
  },
  {
   "cell_type": "code",
   "execution_count": 66,
   "id": "938d7943-093c-492d-a37f-661b448ee312",
   "metadata": {},
   "outputs": [
    {
     "data": {
      "text/plain": [
       "10"
      ]
     },
     "execution_count": 66,
     "metadata": {},
     "output_type": "execute_result"
    }
   ],
   "source": [
    "my_shape1.area()"
   ]
  },
  {
   "cell_type": "code",
   "execution_count": 72,
   "id": "f49d7593-ab63-4608-b564-73a30756c0c0",
   "metadata": {},
   "outputs": [
    {
     "data": {
      "text/plain": [
       "14"
      ]
     },
     "execution_count": 72,
     "metadata": {},
     "output_type": "execute_result"
    }
   ],
   "source": [
    "my_shape1.perimeter()"
   ]
  },
  {
   "cell_type": "code",
   "execution_count": null,
   "id": "cb1e1d24-c59d-48fd-baf0-5da83203ce1e",
   "metadata": {},
   "outputs": [],
   "source": []
  },
  {
   "cell_type": "code",
   "execution_count": null,
   "id": "8304f363-ded2-4fdb-a8d0-ec625a564881",
   "metadata": {},
   "outputs": [],
   "source": []
  }
 ],
 "metadata": {
  "kernelspec": {
   "display_name": "my-python3-kernel",
   "language": "python",
   "name": "my-python3-kernel"
  },
  "language_info": {
   "codemirror_mode": {
    "name": "ipython",
    "version": 3
   },
   "file_extension": ".py",
   "mimetype": "text/x-python",
   "name": "python",
   "nbconvert_exporter": "python",
   "pygments_lexer": "ipython3",
   "version": "3.13.1"
  }
 },
 "nbformat": 4,
 "nbformat_minor": 5
}
